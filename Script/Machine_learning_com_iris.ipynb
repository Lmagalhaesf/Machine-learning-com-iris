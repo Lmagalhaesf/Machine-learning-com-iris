{
  "nbformat": 4,
  "nbformat_minor": 0,
  "metadata": {
    "colab": {
      "name": "Machine learning com iris",
      "provenance": [],
      "collapsed_sections": [],
      "include_colab_link": true
    },
    "kernelspec": {
      "name": "python3",
      "display_name": "Python 3"
    }
  },
  "cells": [
    {
      "cell_type": "markdown",
      "metadata": {
        "id": "view-in-github",
        "colab_type": "text"
      },
      "source": [
        "<a href=\"https://colab.research.google.com/github/Lmagalhaesf/Machine-learning-com-iris/blob/master/Machine_learning_com_iris.ipynb\" target=\"_parent\"><img src=\"https://colab.research.google.com/assets/colab-badge.svg\" alt=\"Open In Colab\"/></a>"
      ]
    },
    {
      "cell_type": "code",
      "metadata": {
        "id": "vHl_glZsFwfy",
        "colab_type": "code",
        "colab": {}
      },
      "source": [
        "import pandas as pd \n",
        "\n",
        "from sklearn.model_selection import train_test_split \n",
        "\n",
        "from sklearn.naive_bayes import GaussianNB \n",
        "\n",
        "from sklearn.preprocessing import LabelEncoder \n",
        "\n",
        "from sklearn.metrics import confusion_matrix, accuracy_score \n",
        "\n",
        "import matplotlib.pyplot as plt\n",
        "\n",
        "import seaborn as sns\n",
        "\n",
        "from yellowbrick.classifier import ConfusionMatrix \n",
        "\n",
        "from sklearn.tree import DecisionTreeClassifier \n",
        "\n",
        "import graphviz \n",
        "\n",
        "from sklearn.tree import export_graphviz"
      ],
      "execution_count": null,
      "outputs": []
    },
    {
      "cell_type": "code",
      "metadata": {
        "id": "g9tUM4rHF0w3",
        "colab_type": "code",
        "colab": {}
      },
      "source": [
        "#buscando dados\n",
        "dados = pd.read_csv('iris.csv') "
      ],
      "execution_count": null,
      "outputs": []
    },
    {
      "cell_type": "code",
      "metadata": {
        "id": "LINrqIPwIj_s",
        "colab_type": "code",
        "colab": {
          "base_uri": "https://localhost:8080/",
          "height": 419
        },
        "outputId": "5904855a-2f60-496f-db50-b62b54728a9e"
      },
      "source": [
        "#viasualizando dados\n",
        "dados"
      ],
      "execution_count": null,
      "outputs": [
        {
          "output_type": "execute_result",
          "data": {
            "text/html": [
              "<div>\n",
              "<style scoped>\n",
              "    .dataframe tbody tr th:only-of-type {\n",
              "        vertical-align: middle;\n",
              "    }\n",
              "\n",
              "    .dataframe tbody tr th {\n",
              "        vertical-align: top;\n",
              "    }\n",
              "\n",
              "    .dataframe thead th {\n",
              "        text-align: right;\n",
              "    }\n",
              "</style>\n",
              "<table border=\"1\" class=\"dataframe\">\n",
              "  <thead>\n",
              "    <tr style=\"text-align: right;\">\n",
              "      <th></th>\n",
              "      <th>sepal.length</th>\n",
              "      <th>sepal.width</th>\n",
              "      <th>petal.length</th>\n",
              "      <th>petal.width</th>\n",
              "      <th>variety</th>\n",
              "    </tr>\n",
              "  </thead>\n",
              "  <tbody>\n",
              "    <tr>\n",
              "      <th>0</th>\n",
              "      <td>5.1</td>\n",
              "      <td>3.5</td>\n",
              "      <td>1.4</td>\n",
              "      <td>0.2</td>\n",
              "      <td>Setosa</td>\n",
              "    </tr>\n",
              "    <tr>\n",
              "      <th>1</th>\n",
              "      <td>4.9</td>\n",
              "      <td>3.0</td>\n",
              "      <td>1.4</td>\n",
              "      <td>0.2</td>\n",
              "      <td>Setosa</td>\n",
              "    </tr>\n",
              "    <tr>\n",
              "      <th>2</th>\n",
              "      <td>4.7</td>\n",
              "      <td>3.2</td>\n",
              "      <td>1.3</td>\n",
              "      <td>0.2</td>\n",
              "      <td>Setosa</td>\n",
              "    </tr>\n",
              "    <tr>\n",
              "      <th>3</th>\n",
              "      <td>4.6</td>\n",
              "      <td>3.1</td>\n",
              "      <td>1.5</td>\n",
              "      <td>0.2</td>\n",
              "      <td>Setosa</td>\n",
              "    </tr>\n",
              "    <tr>\n",
              "      <th>4</th>\n",
              "      <td>5.0</td>\n",
              "      <td>3.6</td>\n",
              "      <td>1.4</td>\n",
              "      <td>0.2</td>\n",
              "      <td>Setosa</td>\n",
              "    </tr>\n",
              "    <tr>\n",
              "      <th>...</th>\n",
              "      <td>...</td>\n",
              "      <td>...</td>\n",
              "      <td>...</td>\n",
              "      <td>...</td>\n",
              "      <td>...</td>\n",
              "    </tr>\n",
              "    <tr>\n",
              "      <th>145</th>\n",
              "      <td>6.7</td>\n",
              "      <td>3.0</td>\n",
              "      <td>5.2</td>\n",
              "      <td>2.3</td>\n",
              "      <td>Virginica</td>\n",
              "    </tr>\n",
              "    <tr>\n",
              "      <th>146</th>\n",
              "      <td>6.3</td>\n",
              "      <td>2.5</td>\n",
              "      <td>5.0</td>\n",
              "      <td>1.9</td>\n",
              "      <td>Virginica</td>\n",
              "    </tr>\n",
              "    <tr>\n",
              "      <th>147</th>\n",
              "      <td>6.5</td>\n",
              "      <td>3.0</td>\n",
              "      <td>5.2</td>\n",
              "      <td>2.0</td>\n",
              "      <td>Virginica</td>\n",
              "    </tr>\n",
              "    <tr>\n",
              "      <th>148</th>\n",
              "      <td>6.2</td>\n",
              "      <td>3.4</td>\n",
              "      <td>5.4</td>\n",
              "      <td>2.3</td>\n",
              "      <td>Virginica</td>\n",
              "    </tr>\n",
              "    <tr>\n",
              "      <th>149</th>\n",
              "      <td>5.9</td>\n",
              "      <td>3.0</td>\n",
              "      <td>5.1</td>\n",
              "      <td>1.8</td>\n",
              "      <td>Virginica</td>\n",
              "    </tr>\n",
              "  </tbody>\n",
              "</table>\n",
              "<p>150 rows × 5 columns</p>\n",
              "</div>"
            ],
            "text/plain": [
              "     sepal.length  sepal.width  petal.length  petal.width    variety\n",
              "0             5.1          3.5           1.4          0.2     Setosa\n",
              "1             4.9          3.0           1.4          0.2     Setosa\n",
              "2             4.7          3.2           1.3          0.2     Setosa\n",
              "3             4.6          3.1           1.5          0.2     Setosa\n",
              "4             5.0          3.6           1.4          0.2     Setosa\n",
              "..            ...          ...           ...          ...        ...\n",
              "145           6.7          3.0           5.2          2.3  Virginica\n",
              "146           6.3          2.5           5.0          1.9  Virginica\n",
              "147           6.5          3.0           5.2          2.0  Virginica\n",
              "148           6.2          3.4           5.4          2.3  Virginica\n",
              "149           5.9          3.0           5.1          1.8  Virginica\n",
              "\n",
              "[150 rows x 5 columns]"
            ]
          },
          "metadata": {
            "tags": []
          },
          "execution_count": 4
        }
      ]
    },
    {
      "cell_type": "code",
      "metadata": {
        "id": "_BWq-86bs7fs",
        "colab_type": "code",
        "colab": {
          "base_uri": "https://localhost:8080/",
          "height": 390
        },
        "outputId": "4de4b94f-dcdb-4287-b78f-37a520cece7b"
      },
      "source": [
        "#gerando um gráfico dividido por medição e espécie\n",
        "fig, (axis1, axis2, axis3, axis4) = plt.subplots(1,4, figsize=(18,6))\n",
        "\n",
        "sns.boxplot(x='variety', y='sepal.length', data=dados, ax=axis1)\n",
        "sns.boxplot(x='variety', y='sepal.width', data=dados, ax=axis2)\n",
        "sns.boxplot(x='variety', y='petal.length', data=dados, ax=axis3)\n",
        "sns.boxplot(x='variety', y='petal.width', data=dados, ax=axis4);"
      ],
      "execution_count": null,
      "outputs": [
        {
          "output_type": "display_data",
          "data": {
            "image/png": "[encoded data removed]",
            "text/plain": [
              "<Figure size 1296x432 with 4 Axes>"
            ]
          },
          "metadata": {
            "tags": [],
            "needs_background": "light"
          }
        }
      ]
    },
    {
      "cell_type": "code",
      "metadata": {
        "id": "953jHw4mIogs",
        "colab_type": "code",
        "colab": {}
      },
      "source": [
        "#criando uma variável somente com as colunas 1 a 3, que correspondem aos valores das medições\n",
        "previsores = dados.iloc[:,0:4].values"
      ],
      "execution_count": null,
      "outputs": []
    },
    {
      "cell_type": "code",
      "metadata": {
        "id": "I9QS9v_R4n8F",
        "colab_type": "code",
        "colab": {}
      },
      "source": [
        "#visualizando os tipos de classes referentes aos dados\n",
        "dados.variety.unique()"
      ],
      "execution_count": null,
      "outputs": []
    },
    {
      "cell_type": "code",
      "metadata": {
        "id": "k4NA2mbbI2Is",
        "colab_type": "code",
        "colab": {}
      },
      "source": [
        "#criando uma variável com a 4 coluna, com os valores da classe\n",
        "classe = dados.iloc[:,4].values"
      ],
      "execution_count": null,
      "outputs": []
    },
    {
      "cell_type": "code",
      "metadata": {
        "id": "XS-dxBHkJHyE",
        "colab_type": "code",
        "colab": {}
      },
      "source": [
        "#visualizando a variável classe\n",
        "classe"
      ],
      "execution_count": null,
      "outputs": []
    },
    {
      "cell_type": "code",
      "metadata": {
        "id": "n0xtqBkTJiPc",
        "colab_type": "code",
        "colab": {}
      },
      "source": [
        "#visualizando a variável previsores\n",
        "previsores"
      ],
      "execution_count": null,
      "outputs": []
    },
    {
      "cell_type": "code",
      "metadata": {
        "id": "8f-Sdz2UJlll",
        "colab_type": "code",
        "colab": {}
      },
      "source": [
        "#gerando os valores de treinamento e de teste, deixando 70% como treino e 30% como teste\n",
        "X_treinamento, X_teste, y_treinamento, y_teste = train_test_split(previsores, classe, test_size = 0.3) "
      ],
      "execution_count": null,
      "outputs": []
    },
    {
      "cell_type": "code",
      "metadata": {
        "id": "nYR99yOkJuxU",
        "colab_type": "code",
        "colab": {}
      },
      "source": [
        "#utilizando o método Naive Bayes para classificcação\n",
        "naive_bayes = GaussianNB() "
      ],
      "execution_count": null,
      "outputs": []
    },
    {
      "cell_type": "code",
      "metadata": {
        "id": "wWru9PlNKXOI",
        "colab_type": "code",
        "colab": {}
      },
      "source": [
        "naive_bayes.fit(X_treinamento, y_treinamento) "
      ],
      "execution_count": null,
      "outputs": []
    },
    {
      "cell_type": "code",
      "metadata": {
        "id": "u361xQ0EKb8t",
        "colab_type": "code",
        "colab": {}
      },
      "source": [
        "#criando as previsões baseadas nos valores de teste de X\n",
        "previsoes = naive_bayes.predict(X_teste)"
      ],
      "execution_count": null,
      "outputs": []
    },
    {
      "cell_type": "code",
      "metadata": {
        "id": "gY7mD-V0Ug-I",
        "colab_type": "code",
        "colab": {}
      },
      "source": [
        "previsoes"
      ],
      "execution_count": null,
      "outputs": []
    },
    {
      "cell_type": "code",
      "metadata": {
        "id": "qSivlCHoKemF",
        "colab_type": "code",
        "colab": {}
      },
      "source": [
        "#criando a matriz de confusão \n",
        "confusao = confusion_matrix(y_teste, previsoes) "
      ],
      "execution_count": null,
      "outputs": []
    },
    {
      "cell_type": "code",
      "metadata": {
        "id": "JpLncwBoKnAV",
        "colab_type": "code",
        "colab": {}
      },
      "source": [
        "#visualizando a matriz de confusão\n",
        "confusao"
      ],
      "execution_count": null,
      "outputs": []
    },
    {
      "cell_type": "code",
      "metadata": {
        "id": "M9nuEGD4KgqN",
        "colab_type": "code",
        "colab": {}
      },
      "source": [
        "#calculando a acurácia do modelo\n",
        "taxa_acerto = accuracy_score(y_teste, previsoes) "
      ],
      "execution_count": null,
      "outputs": []
    },
    {
      "cell_type": "code",
      "metadata": {
        "id": "rgYNGN_vKiFN",
        "colab_type": "code",
        "colab": {}
      },
      "source": [
        "taxa_erro = 1 - taxa_acerto"
      ],
      "execution_count": null,
      "outputs": []
    },
    {
      "cell_type": "code",
      "metadata": {
        "id": "tAz7DgipKkEF",
        "colab_type": "code",
        "colab": {}
      },
      "source": [
        "#taxa de acerto\n",
        "taxa_acerto"
      ],
      "execution_count": null,
      "outputs": []
    },
    {
      "cell_type": "code",
      "metadata": {
        "id": "0yaCIf8qKlcV",
        "colab_type": "code",
        "colab": {}
      },
      "source": [
        "#taxa de erro\n",
        "taxa_erro"
      ],
      "execution_count": null,
      "outputs": []
    },
    {
      "cell_type": "code",
      "metadata": {
        "id": "Kuz_q3ZyKqut",
        "colab_type": "code",
        "colab": {
          "base_uri": "https://localhost:8080/",
          "height": 419
        },
        "outputId": "08d73a15-b79b-4090-f43c-26177344f495"
      },
      "source": [
        "#gerando a mesma matriz de confusão, porém melhor detalhada\n",
        "from yellowbrick.classifier import ConfusionMatrix \n",
        "\n",
        "v = ConfusionMatrix(GaussianNB()) \n",
        "\n",
        "v.fit(X_treinamento, y_treinamento) \n",
        "\n",
        "v.score(X_teste, y_teste) \n",
        "\n",
        "v.poof() "
      ],
      "execution_count": null,
      "outputs": [
        {
          "output_type": "display_data",
          "data": {
            "image/png": "[encoded data removed]",
            "text/plain": [
              "<Figure size 576x396 with 1 Axes>"
            ]
          },
          "metadata": {
            "tags": []
          }
        }
      ]
    },
    {
      "cell_type": "code",
      "metadata": {
        "id": "giqKzEZ6LEO8",
        "colab_type": "code",
        "colab": {}
      },
      "source": [
        "#adicionando novos dados, para fazer a previsão de acordo com os dados antigos\n",
        "novo_dado = pd.read_csv('novaplanta.csv') \n",
        "\n",
        "novo_dado = novo_dado.iloc[:,0:4].values \n"
      ],
      "execution_count": null,
      "outputs": []
    },
    {
      "cell_type": "code",
      "metadata": {
        "id": "HJc-miljNVoB",
        "colab_type": "code",
        "colab": {
          "base_uri": "https://localhost:8080/",
          "height": 68
        },
        "outputId": "c3d69253-88e7-40fa-bc80-41785d1d39d7"
      },
      "source": [
        "#visualizando novos dados\n",
        "novo_dado"
      ],
      "execution_count": null,
      "outputs": [
        {
          "output_type": "execute_result",
          "data": {
            "text/plain": [
              "array([[4.3, 3.2, 2. , 0.3],\n",
              "       [4.8, 4. , 2.3, 0.7],\n",
              "       [3.5, 2.2, 1.6, 1.2]])"
            ]
          },
          "metadata": {
            "tags": []
          },
          "execution_count": 108
        }
      ]
    },
    {
      "cell_type": "code",
      "metadata": {
        "id": "iGRMwbUFQtfg",
        "colab_type": "code",
        "colab": {
          "base_uri": "https://localhost:8080/",
          "height": 34
        },
        "outputId": "9f41fb03-dfef-42ca-f966-942f7b4c24aa"
      },
      "source": [
        "#prevendo qual as espécies de cada dado novo, sendo os dois primeiros classificados como Setosa e o terceiro como Versicolor de acordo com o o modelo Naive Bayes\n",
        "naive_bayes.predict(novo_dado)"
      ],
      "execution_count": null,
      "outputs": [
        {
          "output_type": "execute_result",
          "data": {
            "text/plain": [
              "array(['Setosa', 'Setosa', 'Versicolor'], dtype='<U10')"
            ]
          },
          "metadata": {
            "tags": []
          },
          "execution_count": 109
        }
      ]
    },
    {
      "cell_type": "code",
      "metadata": {
        "id": "YNquczRORMiL",
        "colab_type": "code",
        "colab": {}
      },
      "source": [
        "#fazendo classificação criando arvores de decisão\n",
        "\n",
        "import pandas as pd \n",
        "\n",
        "from sklearn.model_selection import train_test_split \n",
        "\n",
        "from sklearn.preprocessing import LabelEncoder \n",
        "\n",
        "from sklearn.metrics import confusion_matrix, accuracy_score \n",
        "\n",
        "from sklearn.tree import DecisionTreeClassifier \n",
        "\n",
        "import graphviz \n",
        "\n",
        "from sklearn.tree import export_graphviz \n"
      ],
      "execution_count": null,
      "outputs": []
    },
    {
      "cell_type": "code",
      "metadata": {
        "id": "pN4Pp619RAcX",
        "colab_type": "code",
        "colab": {
          "base_uri": "https://localhost:8080/",
          "height": 119
        },
        "outputId": "835eb5fd-8abf-4883-ef94-5373a83e90a7"
      },
      "source": [
        "#criando a arvore\n",
        "arvore = DecisionTreeClassifier() \n",
        "\n",
        "arvore.fit(X_treinamento, y_treinamento)"
      ],
      "execution_count": null,
      "outputs": [
        {
          "output_type": "execute_result",
          "data": {
            "text/plain": [
              "DecisionTreeClassifier(ccp_alpha=0.0, class_weight=None, criterion='gini',\n",
              "                       max_depth=None, max_features=None, max_leaf_nodes=None,\n",
              "                       min_impurity_decrease=0.0, min_impurity_split=None,\n",
              "                       min_samples_leaf=1, min_samples_split=2,\n",
              "                       min_weight_fraction_leaf=0.0, presort='deprecated',\n",
              "                       random_state=None, splitter='best')"
            ]
          },
          "metadata": {
            "tags": []
          },
          "execution_count": 111
        }
      ]
    },
    {
      "cell_type": "code",
      "metadata": {
        "id": "aJfabks_RKLf",
        "colab_type": "code",
        "colab": {}
      },
      "source": [
        "#gerando arquivo para visualização da arvore de decisão\n",
        "export_graphviz(arvore, out_file = 'tree.dot') "
      ],
      "execution_count": null,
      "outputs": []
    },
    {
      "cell_type": "code",
      "metadata": {
        "id": "tBa3ycAmRT73",
        "colab_type": "code",
        "colab": {}
      },
      "source": [
        "#fazendo a previsão\n",
        "previsoes = arvore.predict(X_teste)"
      ],
      "execution_count": null,
      "outputs": []
    },
    {
      "cell_type": "code",
      "metadata": {
        "id": "8L_ineD4RWd3",
        "colab_type": "code",
        "colab": {}
      },
      "source": [
        "#criando a matriz e confusão\n",
        "confusao = confusion_matrix(y_teste, previsoes) "
      ],
      "execution_count": null,
      "outputs": []
    },
    {
      "cell_type": "code",
      "metadata": {
        "id": "6nvmGKGdVWGa",
        "colab_type": "code",
        "colab": {
          "base_uri": "https://localhost:8080/",
          "height": 68
        },
        "outputId": "1717610c-20cf-4b3b-ab52-025dc75d6f7f"
      },
      "source": [
        "#visualizando a matriz de confusão\n",
        "confusao"
      ],
      "execution_count": null,
      "outputs": [
        {
          "output_type": "execute_result",
          "data": {
            "text/plain": [
              "array([[13,  0,  0],\n",
              "       [ 0, 17,  0],\n",
              "       [ 0,  4, 11]])"
            ]
          },
          "metadata": {
            "tags": []
          },
          "execution_count": 120
        }
      ]
    },
    {
      "cell_type": "code",
      "metadata": {
        "id": "-e0VH4BnRYQn",
        "colab_type": "code",
        "colab": {}
      },
      "source": [
        "# calculando a acurácia do modelo\n",
        "taxa_acerto = accuracy_score(y_teste, previsoes) "
      ],
      "execution_count": null,
      "outputs": []
    },
    {
      "cell_type": "code",
      "metadata": {
        "id": "2_iDxZY3RaPv",
        "colab_type": "code",
        "colab": {}
      },
      "source": [
        "taxa_erro = 1 - taxa_acerto "
      ],
      "execution_count": null,
      "outputs": []
    },
    {
      "cell_type": "code",
      "metadata": {
        "id": "dI_LP2C9RfoG",
        "colab_type": "code",
        "colab": {
          "base_uri": "https://localhost:8080/",
          "height": 34
        },
        "outputId": "7ac4809e-67ed-45d2-b3da-f690b8e9a919"
      },
      "source": [
        "taxa_acerto"
      ],
      "execution_count": null,
      "outputs": [
        {
          "output_type": "execute_result",
          "data": {
            "text/plain": [
              "0.9111111111111111"
            ]
          },
          "metadata": {
            "tags": []
          },
          "execution_count": 117
        }
      ]
    },
    {
      "cell_type": "code",
      "metadata": {
        "id": "ifjHwiwLRhS3",
        "colab_type": "code",
        "colab": {
          "base_uri": "https://localhost:8080/",
          "height": 34
        },
        "outputId": "21c474bc-3fb3-47be-ad0c-bcca42ba0e79"
      },
      "source": [
        "taxa_erro"
      ],
      "execution_count": null,
      "outputs": [
        {
          "output_type": "execute_result",
          "data": {
            "text/plain": [
              "0.0888888888888889"
            ]
          },
          "metadata": {
            "tags": []
          },
          "execution_count": 118
        }
      ]
    },
    {
      "cell_type": "code",
      "metadata": {
        "id": "Pmz6cktpTy_5",
        "colab_type": "code",
        "colab": {}
      },
      "source": [
        "#classificando por svm\n",
        "\n",
        "import pandas as pd \n",
        "\n",
        "from sklearn.model_selection import train_test_split \n",
        "\n",
        "from sklearn.preprocessing import LabelEncoder \n",
        "\n",
        "from sklearn.metrics import confusion_matrix, accuracy_score \n",
        "\n",
        "from sklearn.svm import SVC \n",
        "\n",
        "from sklearn.ensemble import ExtraTreesClassifier "
      ],
      "execution_count": null,
      "outputs": []
    },
    {
      "cell_type": "code",
      "metadata": {
        "id": "f0oL2tXZV2Et",
        "colab_type": "code",
        "colab": {}
      },
      "source": [
        "svm=SVC()"
      ],
      "execution_count": null,
      "outputs": []
    },
    {
      "cell_type": "code",
      "metadata": {
        "id": "qQFFOcbHV5AD",
        "colab_type": "code",
        "colab": {
          "base_uri": "https://localhost:8080/",
          "height": 85
        },
        "outputId": "c91d3813-dd8c-453a-c385-06e48ecc2868"
      },
      "source": [
        "svm.fit(X_treinamento, y_treinamento)"
      ],
      "execution_count": null,
      "outputs": [
        {
          "output_type": "execute_result",
          "data": {
            "text/plain": [
              "SVC(C=1.0, break_ties=False, cache_size=200, class_weight=None, coef0=0.0,\n",
              "    decision_function_shape='ovr', degree=3, gamma='scale', kernel='rbf',\n",
              "    max_iter=-1, probability=False, random_state=None, shrinking=True,\n",
              "    tol=0.001, verbose=False)"
            ]
          },
          "metadata": {
            "tags": []
          },
          "execution_count": 127
        }
      ]
    },
    {
      "cell_type": "code",
      "metadata": {
        "id": "WwVzhPHwWr40",
        "colab_type": "code",
        "colab": {}
      },
      "source": [
        "previsoes = svm.predict(X_teste) "
      ],
      "execution_count": null,
      "outputs": []
    },
    {
      "cell_type": "code",
      "metadata": {
        "id": "VoVwaEGvWtzE",
        "colab_type": "code",
        "colab": {}
      },
      "source": [
        "#calculando a acurácia do modelo\n",
        "taxa_acerto = accuracy_score(y_teste, previsoes) "
      ],
      "execution_count": null,
      "outputs": []
    },
    {
      "cell_type": "code",
      "metadata": {
        "id": "ls3D04b4WvmU",
        "colab_type": "code",
        "colab": {
          "base_uri": "https://localhost:8080/",
          "height": 34
        },
        "outputId": "5e55cdc2-ca19-4f16-e257-a3aeace1d744"
      },
      "source": [
        "taxa_acerto"
      ],
      "execution_count": null,
      "outputs": [
        {
          "output_type": "execute_result",
          "data": {
            "text/plain": [
              "0.9333333333333333"
            ]
          },
          "metadata": {
            "tags": []
          },
          "execution_count": 130
        }
      ]
    },
    {
      "cell_type": "code",
      "metadata": {
        "id": "iulbIUynWx79",
        "colab_type": "code",
        "colab": {}
      },
      "source": [
        "#utilizando diversas arvores para criar um modelo\n",
        "forest = ExtraTreesClassifier() "
      ],
      "execution_count": null,
      "outputs": []
    },
    {
      "cell_type": "code",
      "metadata": {
        "id": "gFRXYK5AW1lE",
        "colab_type": "code",
        "colab": {
          "base_uri": "https://localhost:8080/",
          "height": 153
        },
        "outputId": "7770faae-ed98-4b28-c3fd-55a58af35666"
      },
      "source": [
        "forest.fit(X_treinamento, y_treinamento) "
      ],
      "execution_count": null,
      "outputs": [
        {
          "output_type": "execute_result",
          "data": {
            "text/plain": [
              "ExtraTreesClassifier(bootstrap=False, ccp_alpha=0.0, class_weight=None,\n",
              "                     criterion='gini', max_depth=None, max_features='auto',\n",
              "                     max_leaf_nodes=None, max_samples=None,\n",
              "                     min_impurity_decrease=0.0, min_impurity_split=None,\n",
              "                     min_samples_leaf=1, min_samples_split=2,\n",
              "                     min_weight_fraction_leaf=0.0, n_estimators=100,\n",
              "                     n_jobs=None, oob_score=False, random_state=None, verbose=0,\n",
              "                     warm_start=False)"
            ]
          },
          "metadata": {
            "tags": []
          },
          "execution_count": 132
        }
      ]
    },
    {
      "cell_type": "code",
      "metadata": {
        "id": "hHQmn6_SW3Ds",
        "colab_type": "code",
        "colab": {}
      },
      "source": [
        "#gerando a importancia de cada coluna para a acurácia do modelo\n",
        "importancias = forest.feature_importances_ "
      ],
      "execution_count": null,
      "outputs": []
    },
    {
      "cell_type": "code",
      "metadata": {
        "id": "B5qJ2zQIW6e0",
        "colab_type": "code",
        "colab": {
          "base_uri": "https://localhost:8080/",
          "height": 34
        },
        "outputId": "190f1d18-3e73-4417-a24c-e9fb9072c8f4"
      },
      "source": [
        "importancias"
      ],
      "execution_count": null,
      "outputs": [
        {
          "output_type": "execute_result",
          "data": {
            "text/plain": [
              "array([0.10613429, 0.04537192, 0.35402941, 0.49446439])"
            ]
          },
          "metadata": {
            "tags": []
          },
          "execution_count": 135
        }
      ]
    },
    {
      "cell_type": "code",
      "metadata": {
        "id": "nZLk6U6uXQkk",
        "colab_type": "code",
        "colab": {}
      },
      "source": [
        "#gerando a variavel de treino com a seleção de atributos mais importantes\n",
        "X_treinamento2 = X_treinamento[:,[0,2,3]] "
      ],
      "execution_count": null,
      "outputs": []
    },
    {
      "cell_type": "code",
      "metadata": {
        "id": "GYe10DtyXnqt",
        "colab_type": "code",
        "colab": {}
      },
      "source": [
        "#gerando a variavel de teste com a seleção de atributos mais importantes\n",
        "X_teste2 = X_teste[:,[0,2,3]] "
      ],
      "execution_count": null,
      "outputs": []
    },
    {
      "cell_type": "code",
      "metadata": {
        "id": "61tvGpfCXsZk",
        "colab_type": "code",
        "colab": {}
      },
      "source": [
        "#gerando o modelo svm\n",
        "svm2 = SVC() "
      ],
      "execution_count": null,
      "outputs": []
    },
    {
      "cell_type": "code",
      "metadata": {
        "id": "77sMwvWBXw3k",
        "colab_type": "code",
        "colab": {
          "base_uri": "https://localhost:8080/",
          "height": 85
        },
        "outputId": "447d1358-e275-4e13-8126-2b4c5d407190"
      },
      "source": [
        "#gerando o modelo svm\n",
        "svm2.fit(X_treinamento2, y_treinamento)"
      ],
      "execution_count": null,
      "outputs": [
        {
          "output_type": "execute_result",
          "data": {
            "text/plain": [
              "SVC(C=1.0, break_ties=False, cache_size=200, class_weight=None, coef0=0.0,\n",
              "    decision_function_shape='ovr', degree=3, gamma='scale', kernel='rbf',\n",
              "    max_iter=-1, probability=False, random_state=None, shrinking=True,\n",
              "    tol=0.001, verbose=False)"
            ]
          },
          "metadata": {
            "tags": []
          },
          "execution_count": 139
        }
      ]
    },
    {
      "cell_type": "code",
      "metadata": {
        "id": "nTXZkFYpXz8E",
        "colab_type": "code",
        "colab": {}
      },
      "source": [
        "#gerando as previsões do modelo\n",
        "previsoes2 = svm2.predict(X_teste2) "
      ],
      "execution_count": null,
      "outputs": []
    },
    {
      "cell_type": "code",
      "metadata": {
        "id": "WC14rQbIX5Fd",
        "colab_type": "code",
        "colab": {
          "base_uri": "https://localhost:8080/",
          "height": 187
        },
        "outputId": "d7026d42-a7b7-40b8-e67e-c6d409e9f901"
      },
      "source": [
        "previsoes2"
      ],
      "execution_count": null,
      "outputs": [
        {
          "output_type": "execute_result",
          "data": {
            "text/plain": [
              "array(['Setosa', 'Versicolor', 'Setosa', 'Versicolor', 'Virginica',\n",
              "       'Setosa', 'Virginica', 'Virginica', 'Virginica', 'Versicolor',\n",
              "       'Versicolor', 'Virginica', 'Setosa', 'Virginica', 'Setosa',\n",
              "       'Virginica', 'Setosa', 'Virginica', 'Setosa', 'Versicolor',\n",
              "       'Setosa', 'Virginica', 'Versicolor', 'Versicolor', 'Virginica',\n",
              "       'Versicolor', 'Virginica', 'Versicolor', 'Setosa', 'Versicolor',\n",
              "       'Setosa', 'Versicolor', 'Setosa', 'Setosa', 'Versicolor',\n",
              "       'Versicolor', 'Versicolor', 'Virginica', 'Versicolor',\n",
              "       'Versicolor', 'Versicolor', 'Setosa', 'Versicolor', 'Versicolor',\n",
              "       'Versicolor'], dtype=object)"
            ]
          },
          "metadata": {
            "tags": []
          },
          "execution_count": 142
        }
      ]
    },
    {
      "cell_type": "code",
      "metadata": {
        "id": "nHgFHzluX140",
        "colab_type": "code",
        "colab": {}
      },
      "source": [
        "#calculando a acurácia do modelo\n",
        "taxa_acerto = accuracy_score(y_teste, previsoes2) "
      ],
      "execution_count": null,
      "outputs": []
    },
    {
      "cell_type": "code",
      "metadata": {
        "id": "OY1Jw5VQX4Hk",
        "colab_type": "code",
        "colab": {
          "base_uri": "https://localhost:8080/",
          "height": 34
        },
        "outputId": "e162e4e0-a946-4a30-a7db-e31b5cd76c5c"
      },
      "source": [
        "taxa_acerto"
      ],
      "execution_count": null,
      "outputs": [
        {
          "output_type": "execute_result",
          "data": {
            "text/plain": [
              "0.9333333333333333"
            ]
          },
          "metadata": {
            "tags": []
          },
          "execution_count": 143
        }
      ]
    },
    {
      "cell_type": "code",
      "metadata": {
        "id": "eL4SPryQX74V",
        "colab_type": "code",
        "colab": {}
      },
      "source": [
        "#machine leaning baseado em instâncias\n",
        "\n",
        "from sklearn.model_selection import train_test_split \n",
        "\n",
        "from sklearn.metrics import confusion_matrix, accuracy_score \n",
        "\n",
        "from sklearn.neighbors import KNeighborsClassifier \n",
        "\n",
        "from sklearn import datasets \n",
        "\n",
        "from scipy import stats \n",
        "\n",
        "  "
      ],
      "execution_count": null,
      "outputs": []
    },
    {
      "cell_type": "code",
      "metadata": {
        "id": "G_HrG3JcxCOC",
        "colab_type": "code",
        "colab": {}
      },
      "source": [
        "#puxando a base de dados\n",
        "iris = datasets.load_iris() "
      ],
      "execution_count": null,
      "outputs": []
    },
    {
      "cell_type": "code",
      "metadata": {
        "id": "uuujn4QrxjPp",
        "colab_type": "code",
        "colab": {
          "base_uri": "https://localhost:8080/",
          "height": 54
        },
        "outputId": "d5c55a95-8b5b-4ee7-fe4b-27675ad99a8d"
      },
      "source": [
        "#descrevendo a base de dados\n",
        "stats.describe(iris.data) "
      ],
      "execution_count": null,
      "outputs": [
        {
          "output_type": "execute_result",
          "data": {
            "text/plain": [
              "DescribeResult(nobs=150, minmax=(array([4.3, 2. , 1. , 0.1]), array([7.9, 4.4, 6.9, 2.5])), mean=array([5.84333333, 3.05733333, 3.758     , 1.19933333]), variance=array([0.68569351, 0.18997942, 3.11627785, 0.58100626]), skewness=array([ 0.31175306,  0.31576711, -0.27212767, -0.10193421]), kurtosis=array([-0.57356795,  0.18097632, -1.39553589, -1.33606741]))"
            ]
          },
          "metadata": {
            "tags": []
          },
          "execution_count": 150
        }
      ]
    },
    {
      "cell_type": "code",
      "metadata": {
        "id": "V92V4TzQxmgQ",
        "colab_type": "code",
        "colab": {}
      },
      "source": [
        "previsores = iris.data "
      ],
      "execution_count": null,
      "outputs": []
    },
    {
      "cell_type": "code",
      "metadata": {
        "id": "KUXUZb1zyOh1",
        "colab_type": "code",
        "colab": {}
      },
      "source": [
        "previsores"
      ],
      "execution_count": null,
      "outputs": []
    },
    {
      "cell_type": "code",
      "metadata": {
        "id": "etWRUvybyKVX",
        "colab_type": "code",
        "colab": {}
      },
      "source": [
        "classe = iris.target "
      ],
      "execution_count": null,
      "outputs": []
    },
    {
      "cell_type": "code",
      "metadata": {
        "id": "Lsxejk_ZyLxo",
        "colab_type": "code",
        "colab": {}
      },
      "source": [
        "classe"
      ],
      "execution_count": null,
      "outputs": []
    },
    {
      "cell_type": "code",
      "metadata": {
        "id": "HkpZVnVtyRcK",
        "colab_type": "code",
        "colab": {}
      },
      "source": [
        "X_treinamento, X_teste, y_treinamento, y_teste = train_test_split(previsores,classe,test_size = 0.3) "
      ],
      "execution_count": null,
      "outputs": []
    },
    {
      "cell_type": "code",
      "metadata": {
        "id": "V2txnlTqyW6J",
        "colab_type": "code",
        "colab": {}
      },
      "source": [
        "#criando o modelo para relacionar com os vizinhos\n",
        "knn = KNeighborsClassifier(n_neighbors = 3)"
      ],
      "execution_count": null,
      "outputs": []
    },
    {
      "cell_type": "code",
      "metadata": {
        "id": "inkAkxYaylsY",
        "colab_type": "code",
        "colab": {
          "base_uri": "https://localhost:8080/",
          "height": 68
        },
        "outputId": "a492f413-fe3f-463a-ba7e-21ed2a116cb6"
      },
      "source": [
        "#treinamento do modelo\n",
        "knn.fit(X_treinamento, y_treinamento) "
      ],
      "execution_count": null,
      "outputs": [
        {
          "output_type": "execute_result",
          "data": {
            "text/plain": [
              "KNeighborsClassifier(algorithm='auto', leaf_size=30, metric='minkowski',\n",
              "                     metric_params=None, n_jobs=None, n_neighbors=3, p=2,\n",
              "                     weights='uniform')"
            ]
          },
          "metadata": {
            "tags": []
          },
          "execution_count": 157
        }
      ]
    },
    {
      "cell_type": "code",
      "metadata": {
        "id": "Q3_xpZjGynOo",
        "colab_type": "code",
        "colab": {}
      },
      "source": [
        "#testando o modelo\n",
        "previsoes = knn.predict(X_teste) "
      ],
      "execution_count": null,
      "outputs": []
    },
    {
      "cell_type": "code",
      "metadata": {
        "id": "FRo3oU7AyxAw",
        "colab_type": "code",
        "colab": {}
      },
      "source": [
        "#criando a matriz de confusão\n",
        "confusao = confusion_matrix(y_teste, previsoes) "
      ],
      "execution_count": null,
      "outputs": []
    },
    {
      "cell_type": "code",
      "metadata": {
        "id": "vxHWf5VTzGq3",
        "colab_type": "code",
        "colab": {
          "base_uri": "https://localhost:8080/",
          "height": 68
        },
        "outputId": "1d77acbf-aedb-4542-c4d0-1e388b788b67"
      },
      "source": [
        "confusao"
      ],
      "execution_count": null,
      "outputs": [
        {
          "output_type": "execute_result",
          "data": {
            "text/plain": [
              "array([[17,  0,  0],\n",
              "       [ 0, 18,  2],\n",
              "       [ 0,  1,  7]])"
            ]
          },
          "metadata": {
            "tags": []
          },
          "execution_count": 163
        }
      ]
    },
    {
      "cell_type": "code",
      "metadata": {
        "id": "NqnIHygTyyzI",
        "colab_type": "code",
        "colab": {}
      },
      "source": [
        "#medindo acurácia do modelo\n",
        "taxa_acerto = accuracy_score(y_teste, previsoes) "
      ],
      "execution_count": null,
      "outputs": []
    },
    {
      "cell_type": "code",
      "metadata": {
        "id": "WbTnuTpDy97x",
        "colab_type": "code",
        "colab": {
          "base_uri": "https://localhost:8080/",
          "height": 34
        },
        "outputId": "b736d5db-3ac3-4e79-e520-7c87a7940ab5"
      },
      "source": [
        "taxa_acerto"
      ],
      "execution_count": null,
      "outputs": [
        {
          "output_type": "execute_result",
          "data": {
            "text/plain": [
              "0.9333333333333333"
            ]
          },
          "metadata": {
            "tags": []
          },
          "execution_count": 165
        }
      ]
    },
    {
      "cell_type": "code",
      "metadata": {
        "id": "KctmpYcvzDG5",
        "colab_type": "code",
        "colab": {}
      },
      "source": [
        "#gerando várias arvores de decisão e utilizar a resposta de varias dessa arvores para classificar\n",
        "\n",
        "import pandas as pd \n",
        "\n",
        "from sklearn.model_selection import train_test_split \n",
        "\n",
        "from sklearn.preprocessing import LabelEncoder \n",
        "\n",
        "from sklearn.metrics import confusion_matrix, accuracy_score \n",
        "\n",
        "from sklearn.ensemble import RandomForestClassifier "
      ],
      "execution_count": null,
      "outputs": []
    },
    {
      "cell_type": "code",
      "metadata": {
        "id": "sk8RXH1yzx4T",
        "colab_type": "code",
        "colab": {}
      },
      "source": [
        "dados = pd.read_csv('iris.csv')"
      ],
      "execution_count": null,
      "outputs": []
    },
    {
      "cell_type": "code",
      "metadata": {
        "id": "cK4O4d8qz0JR",
        "colab_type": "code",
        "colab": {}
      },
      "source": [
        "previsores = dados.iloc[:,0:4].values"
      ],
      "execution_count": null,
      "outputs": []
    },
    {
      "cell_type": "code",
      "metadata": {
        "id": "uxYwVb1n0Bip",
        "colab_type": "code",
        "colab": {}
      },
      "source": [
        "classe = dados.iloc[:,4].values "
      ],
      "execution_count": null,
      "outputs": []
    },
    {
      "cell_type": "code",
      "metadata": {
        "id": "UcEr43SD0g-D",
        "colab_type": "code",
        "colab": {}
      },
      "source": [
        "X_treinamento, X_teste, y_treinamento, y_teste = train_test_split(previsores, classe, test_size = 0.3) "
      ],
      "execution_count": null,
      "outputs": []
    },
    {
      "cell_type": "code",
      "metadata": {
        "id": "NCNUdAh-0syR",
        "colab_type": "code",
        "colab": {}
      },
      "source": [
        "floresta = RandomForestClassifier(n_estimators = 100)"
      ],
      "execution_count": null,
      "outputs": []
    },
    {
      "cell_type": "code",
      "metadata": {
        "id": "6EVSkEcc03eJ",
        "colab_type": "code",
        "colab": {
          "base_uri": "https://localhost:8080/",
          "height": 153
        },
        "outputId": "011a3b32-3c7c-4bc4-b360-7e7da0f93fc9"
      },
      "source": [
        "floresta.fit(X_treinamento, y_treinamento) "
      ],
      "execution_count": null,
      "outputs": [
        {
          "output_type": "execute_result",
          "data": {
            "text/plain": [
              "RandomForestClassifier(bootstrap=True, ccp_alpha=0.0, class_weight=None,\n",
              "                       criterion='gini', max_depth=None, max_features='auto',\n",
              "                       max_leaf_nodes=None, max_samples=None,\n",
              "                       min_impurity_decrease=0.0, min_impurity_split=None,\n",
              "                       min_samples_leaf=1, min_samples_split=2,\n",
              "                       min_weight_fraction_leaf=0.0, n_estimators=100,\n",
              "                       n_jobs=None, oob_score=False, random_state=None,\n",
              "                       verbose=0, warm_start=False)"
            ]
          },
          "metadata": {
            "tags": []
          },
          "execution_count": 190
        }
      ]
    },
    {
      "cell_type": "code",
      "metadata": {
        "id": "NUcycPpX05X5",
        "colab_type": "code",
        "colab": {}
      },
      "source": [
        "previsoes = floresta.predict(X_teste) "
      ],
      "execution_count": null,
      "outputs": []
    },
    {
      "cell_type": "code",
      "metadata": {
        "id": "lNONo9kC07hC",
        "colab_type": "code",
        "colab": {}
      },
      "source": [
        "confusao = confusion_matrix(y_teste, previsoes) "
      ],
      "execution_count": null,
      "outputs": []
    },
    {
      "cell_type": "code",
      "metadata": {
        "id": "ueo-tGMT1J0g",
        "colab_type": "code",
        "colab": {
          "base_uri": "https://localhost:8080/",
          "height": 68
        },
        "outputId": "8025129b-4be9-4ef3-eb2a-4e60042c6a2c"
      },
      "source": [
        "confusao"
      ],
      "execution_count": null,
      "outputs": [
        {
          "output_type": "execute_result",
          "data": {
            "text/plain": [
              "array([[22,  0,  0],\n",
              "       [ 0,  8,  1],\n",
              "       [ 0,  1, 13]])"
            ]
          },
          "metadata": {
            "tags": []
          },
          "execution_count": 193
        }
      ]
    },
    {
      "cell_type": "code",
      "metadata": {
        "id": "3WLY8xmP09C6",
        "colab_type": "code",
        "colab": {}
      },
      "source": [
        "#calculando acurácia do modelo\n",
        "taxa_acerto = accuracy_score(y_teste, previsoes) "
      ],
      "execution_count": null,
      "outputs": []
    },
    {
      "cell_type": "code",
      "metadata": {
        "id": "gJSYoeVl0-UC",
        "colab_type": "code",
        "colab": {
          "base_uri": "https://localhost:8080/",
          "height": 34
        },
        "outputId": "f5aee993-360b-415d-96e9-561352384947"
      },
      "source": [
        "taxa_acerto"
      ],
      "execution_count": null,
      "outputs": [
        {
          "output_type": "execute_result",
          "data": {
            "text/plain": [
              "0.9555555555555556"
            ]
          },
          "metadata": {
            "tags": []
          },
          "execution_count": 195
        }
      ]
    },
    {
      "cell_type": "code",
      "metadata": {
        "id": "VaDhwCey0_JR",
        "colab_type": "code",
        "colab": {}
      },
      "source": [
        "#mostrar todas as arvores que foram criadas\n",
        "floresta.estimators_ "
      ],
      "execution_count": null,
      "outputs": []
    },
    {
      "cell_type": "code",
      "metadata": {
        "id": "0lb9pkLQ1BRC",
        "colab_type": "code",
        "colab": {}
      },
      "source": [
        "#No caso de querer visualizar alguma das arvores\n",
        "floresta.estimators_[1] "
      ],
      "execution_count": null,
      "outputs": []
    }
  ]
}
